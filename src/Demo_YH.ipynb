{
 "cells": [
  {
   "cell_type": "code",
   "execution_count": 1,
   "id": "5547cf0e-4b54-4476-bdc0-1fa9990cf1a5",
   "metadata": {},
   "outputs": [
    {
     "name": "stderr",
     "output_type": "stream",
     "text": [
      "/home/studio-lab-user/.conda/envs/d2l/lib/python3.9/site-packages/tqdm/auto.py:22: TqdmWarning: IProgress not found. Please update jupyter and ipywidgets. See https://ipywidgets.readthedocs.io/en/stable/user_install.html\n",
      "  from .autonotebook import tqdm as notebook_tqdm\n"
     ]
    }
   ],
   "source": [
    "import torch\n",
    "import numpy as np\n",
    "import os"
   ]
  },
  {
   "cell_type": "code",
   "execution_count": 2,
   "id": "3dc57e2d-d63d-49b6-9487-6cb25f447525",
   "metadata": {},
   "outputs": [],
   "source": [
    "data_name = 'cora'\n",
    "attributes_file_name = os.path.join('../data', data_name, 'attributes')\n",
    "labels_file_name = os.path.join('../data', data_name, 'labels')\n",
    "valid_file_name = os.path.join('../data', data_name, 'valid_nodes')\n",
    "\n",
    "features = np.loadtxt(attributes_file_name)\n",
    "labels = np.loadtxt(labels_file_name, dtype=np.int64)[:,1]\n",
    "valid_all_nodes_list = np.loadtxt(valid_file_name, dtype = np.int64)"
   ]
  },
  {
   "cell_type": "markdown",
   "id": "16602b10-31f5-44e3-a8c3-85b8762ec1b3",
   "metadata": {
    "tags": []
   },
   "source": [
    "# Test"
   ]
  },
  {
   "cell_type": "code",
   "execution_count": 3,
   "id": "5a66943c-94a3-4f86-a534-0cd491d70792",
   "metadata": {},
   "outputs": [],
   "source": [
    "from utils import update_viewed_training_nodes_and_edges, generate_graph"
   ]
  },
  {
   "cell_type": "code",
   "execution_count": 4,
   "id": "2c064488-6183-4fba-8f05-9567d6ad3e00",
   "metadata": {},
   "outputs": [
    {
     "name": "stdout",
     "output_type": "stream",
     "text": [
      "At timestep 0, graph structure is: |Data(x=[522, 1433], edge_index=[2, 1078], y=[522], num_nodes=522)|\n",
      "\n",
      "Number of total viewed training nodes is 522.\n",
      "\n",
      "Number of total viewed training edges is 539.\n",
      "\n",
      "------------------------------\n",
      "At timestep 1, graph structure is: |Data(x=[772, 1433], edge_index=[2, 1620], y=[772], num_nodes=772)|\n",
      "\n",
      "Number of total viewed training nodes is 772.\n",
      "\n",
      "Number of total viewed training edges is 810.\n",
      "\n",
      "------------------------------\n",
      "At timestep 2, graph structure is: |Data(x=[901, 1433], edge_index=[2, 1978], y=[901], num_nodes=901)|\n",
      "\n",
      "Number of total viewed training nodes is 901.\n",
      "\n",
      "Number of total viewed training edges is 989.\n",
      "\n",
      "------------------------------\n",
      "At timestep 3, graph structure is: |Data(x=[933, 1433], edge_index=[2, 2080], y=[933], num_nodes=933)|\n",
      "\n",
      "Number of total viewed training nodes is 933.\n",
      "\n",
      "Number of total viewed training edges is 1040.\n",
      "\n",
      "------------------------------\n",
      "At timestep 4, graph structure is: |Data(x=[1083, 1433], edge_index=[2, 2574], y=[1083], num_nodes=1083)|\n",
      "\n",
      "Number of total viewed training nodes is 1083.\n",
      "\n",
      "Number of total viewed training edges is 1287.\n",
      "\n",
      "------------------------------\n",
      "At timestep 5, graph structure is: |Data(x=[1103, 1433], edge_index=[2, 2748], y=[1103], num_nodes=1103)|\n",
      "\n",
      "Number of total viewed training nodes is 1103.\n",
      "\n",
      "Number of total viewed training edges is 1374.\n",
      "\n",
      "------------------------------\n",
      "At timestep 6, graph structure is: |Data(x=[1291, 1433], edge_index=[2, 3394], y=[1291], num_nodes=1291)|\n",
      "\n",
      "Number of total viewed training nodes is 1291.\n",
      "\n",
      "Number of total viewed training edges is 1697.\n",
      "\n",
      "------------------------------\n",
      "At timestep 7, graph structure is: |Data(x=[1385, 1433], edge_index=[2, 3780], y=[1385], num_nodes=1385)|\n",
      "\n",
      "Number of total viewed training nodes is 1385.\n",
      "\n",
      "Number of total viewed training edges is 1890.\n",
      "\n",
      "------------------------------\n",
      "At timestep 8, graph structure is: |Data(x=[1510, 1433], edge_index=[2, 4602], y=[1510], num_nodes=1510)|\n",
      "\n",
      "Number of total viewed training nodes is 1510.\n",
      "\n",
      "Number of total viewed training edges is 2301.\n",
      "\n",
      "------------------------------\n",
      "At timestep 9, graph structure is: |Data(x=[1536, 1433], edge_index=[2, 4908], y=[1536], num_nodes=1536)|\n",
      "\n",
      "Number of total viewed training nodes is 1536.\n",
      "\n",
      "Number of total viewed training edges is 2454.\n",
      "\n",
      "------------------------------\n",
      "At timestep 10, graph structure is: |Data(x=[1770, 1433], edge_index=[2, 6030], y=[1770], num_nodes=1770)|\n",
      "\n",
      "Number of total viewed training nodes is 1770.\n",
      "\n",
      "Number of total viewed training edges is 3015.\n",
      "\n",
      "------------------------------\n",
      "At timestep 11, graph structure is: |Data(x=[1783, 1433], edge_index=[2, 6086], y=[1783], num_nodes=1783)|\n",
      "\n",
      "Number of total viewed training nodes is 1783.\n",
      "\n",
      "Number of total viewed training edges is 3043.\n",
      "\n",
      "------------------------------\n",
      "At timestep 12, graph structure is: |Data(x=[1897, 1433], edge_index=[2, 6690], y=[1897], num_nodes=1897)|\n",
      "\n",
      "Number of total viewed training nodes is 1897.\n",
      "\n",
      "Number of total viewed training edges is 3345.\n",
      "\n",
      "------------------------------\n",
      "At timestep 13, graph structure is: |Data(x=[1908, 1433], edge_index=[2, 6810], y=[1908], num_nodes=1908)|\n",
      "\n",
      "Number of total viewed training nodes is 1908.\n",
      "\n",
      "Number of total viewed training edges is 3405.\n",
      "\n",
      "------------------------------\n"
     ]
    }
   ],
   "source": [
    "stream_edges_dir_name = os.path.join('../data', data_name, 'stream_edges')\n",
    "viewed_training_nodes, viewed_training_edges = None, None\n",
    "for t in range(14):\n",
    "    coming_edges = np.loadtxt(os.path.join(stream_edges_dir_name, str(t)), dtype=int)\n",
    "    viewed_training_nodes, viewed_training_edges = update_viewed_training_nodes_and_edges(\n",
    "            coming_edges, viewed_training_nodes, viewed_training_edges, valid_all_nodes_list)\n",
    "    graph = generate_graph(viewed_training_nodes, viewed_training_edges, features, labels)\n",
    "    print(f\"At timestep {t}, graph structure is: |{graph}|\\n\")\n",
    "    print(f\"Number of total viewed training nodes is {len(viewed_training_nodes)}.\\n\")\n",
    "    print(f\"Number of total viewed training edges is {viewed_training_edges.shape[0]}.\\n\")\n",
    "    print(f\"{'-':->30s}\")"
   ]
  },
  {
   "cell_type": "code",
   "execution_count": null,
   "id": "c9d24947-0545-4c02-93ce-bee87bcad375",
   "metadata": {},
   "outputs": [],
   "source": []
  }
 ],
 "metadata": {
  "kernelspec": {
   "display_name": "d2l:Python",
   "language": "python",
   "name": "conda-env-d2l-py"
  },
  "language_info": {
   "codemirror_mode": {
    "name": "ipython",
    "version": 3
   },
   "file_extension": ".py",
   "mimetype": "text/x-python",
   "name": "python",
   "nbconvert_exporter": "python",
   "pygments_lexer": "ipython3",
   "version": "3.9.15"
  }
 },
 "nbformat": 4,
 "nbformat_minor": 5
}
